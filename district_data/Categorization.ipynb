{
 "cells": [
  {
   "cell_type": "code",
   "execution_count": 1,
   "metadata": {},
   "outputs": [],
   "source": [
    "import json\n",
    "import pandas as pd\n",
    "import numpy as np"
   ]
  },
  {
   "cell_type": "code",
   "execution_count": 2,
   "metadata": {},
   "outputs": [
    {
     "data": {
      "text/plain": [
       "dict_keys(['dates', 'cum_positive_cases', 'cum_positivity_rate', 'daily_positive_cases', 'cum_recovered', 'daily_recovered', 'cum_deceased', 'daily_deceased', 'daily_positivity_rate', 'daily_positive_cases_ma', 'daily_positivity_rate_ma', 'daily_tests', 'cum_tests', 'test_per_million', 'daily_cases_per_million', 'daily_tests_per_million', 'daily_tests_ma', 'daily_deceased_ma', 'cfr1_point', 'cfr2_point', 'cfr3_point', 'cfr3_l95', 'cfr3_u95', 'cfr3_l50', 'cfr3_u50', 'dbt_point', 'dbt_l95', 'dbt_u95', 'rt_point', 'rt_sd', 'rt_l95', 'rt_u95', 'rt_l50', 'rt_u50', 't_end', 'daily_positive_cases_14ma', 'daily_tests_14ma', 'rate_increase_new_cases', 'TPR', 'daily_tests_per_million_14ma', 'pct_ICU', 'category', 'year'])"
      ]
     },
     "execution_count": 2,
     "metadata": {},
     "output_type": "execute_result"
    }
   ],
   "source": [
    "js_ = json.load(open(\"delhi-demo-outputs.json\"))\n",
    "js_[\"Delhi\"].keys()"
   ]
  },
  {
   "cell_type": "code",
   "execution_count": null,
   "metadata": {},
   "outputs": [],
   "source": []
  },
  {
   "cell_type": "code",
   "execution_count": 3,
   "metadata": {},
   "outputs": [],
   "source": [
    "def logic(js):\n",
    "    if js[\"rate_increase_new_cases\"][i] >5 and js[\"TPR\"][i] > 10 and js[\"pct_ICU\"][i] < 40 and (js[\"daily_cases_per_million\"][i]  >100 or js[\"daily_tests_per_million_14ma\"][i] < 140):\n",
    "        return \"RED\"\n",
    "    elif (js[\"rate_increase_new_cases\"][i] >= 2) and (js[\"TPR\"][i] >=5) and (js[\"pct_ICU\"][i] <= 80) and ((js[\"daily_cases_per_million\"][i]  >= 20) or (js[\"daily_tests_per_million_14ma\"][i] < 140)):\n",
    "        return \"YELLOW\"\n",
    "    else:\n",
    "        return \"GREEN\"\n",
    "\n",
    "    \n",
    "def agg_logic(js):\n",
    "    if js[\"rate_increase_new_cases\"][i] < 2 and js[\"TPR\"][i] < 5 and js[\"pct_ICU\"][i] > 80 and (js[\"daily_cases_per_million\"][i]  <20 or js[\"daily_tests_per_million_14ma\"][i] > 140):\n",
    "        return \"GREEN\"\n",
    "    elif (js[\"rate_increase_new_cases\"][i] <=5) and (js[\"TPR\"][i] <= 10) and js[\"pct_ICU\"][i] >= 40 and  ((js[\"daily_cases_per_million\"][i]  <100) or (js[\"daily_tests_per_million_14ma\"][i] < 140)):\n",
    "        return \"YELLOW\"\n",
    "    else:\n",
    "        return \"RED\"\n",
    "    "
   ]
  },
  {
   "cell_type": "code",
   "execution_count": 4,
   "metadata": {},
   "outputs": [],
   "source": [
    "def logic_without_icu(js,i):\n",
    "    if js[\"rate_increase_new_cases\"][i] == '' or js[\"TPR\"][i] == '' or js[\"daily_cases_per_million\"][i] == '' or js[\"daily_tests_per_million_14ma\"][i] == '':\n",
    "        return \"GRAY\"\n",
    "    elif js[\"rate_increase_new_cases\"][i] >5 and js[\"TPR\"][i] > 10 and (js[\"daily_cases_per_million\"][i]  >100 or js[\"daily_tests_per_million_14ma\"][i] < 140):\n",
    "        return \"RED\"\n",
    "    elif (js[\"rate_increase_new_cases\"][i] >= 2) and (js[\"TPR\"][i] >=5) and ((js[\"daily_cases_per_million\"][i]  >= 20) or (js[\"daily_tests_per_million_14ma\"][i] < 140)):\n",
    "        return \"YELLOW\"\n",
    "    else:\n",
    "        return \"GREEN\"\n",
    "    \n",
    "    \n",
    "def agg_logic_without_icu(js,i):\n",
    "    if js[\"rate_increase_new_cases\"][i] == '' or js[\"TPR\"][i] == '' or js[\"daily_cases_per_million\"][i] == '' or js[\"daily_tests_per_million_14ma\"][i] == '':\n",
    "        return \"GRAY\"\n",
    "    elif js[\"rate_increase_new_cases\"][i] < 2 and js[\"TPR\"][i] < 5 and (js[\"daily_cases_per_million\"][i]  <20 or js[\"daily_tests_per_million_14ma\"][i] > 140):\n",
    "        return \"GREEN\"\n",
    "    elif (js[\"rate_increase_new_cases\"][i] <=5) and (js[\"TPR\"][i] <= 10) and ((js[\"daily_cases_per_million\"][i]  <100) or (js[\"daily_tests_per_million_14ma\"][i] < 140)):\n",
    "        return \"YELLOW\"\n",
    "    else:\n",
    "        return \"RED\"\n",
    "    "
   ]
  },
  {
   "cell_type": "code",
   "execution_count": 11,
   "metadata": {},
   "outputs": [],
   "source": [
    "for cities in js_:\n",
    "    if cities == \"datetime\":\n",
    "        continue\n",
    "\n",
    "        \n",
    "    js_[cities][\"category\"] = []\n",
    "    for i in range(len(js_[cities][\"dates\"])):\n",
    "        js_[cities][\"category\"].append(logic_without_icu(js_[cities], i))"
   ]
  },
  {
   "cell_type": "code",
   "execution_count": null,
   "metadata": {},
   "outputs": [],
   "source": []
  },
  {
   "cell_type": "code",
   "execution_count": 12,
   "metadata": {},
   "outputs": [
    {
     "data": {
      "text/plain": [
       "dict_keys(['dates', 'cum_positive_cases', 'cum_positivity_rate', 'daily_positive_cases', 'cum_recovered', 'daily_recovered', 'cum_deceased', 'daily_deceased', 'daily_positivity_rate', 'daily_positive_cases_ma', 'daily_positivity_rate_ma', 'daily_tests', 'cum_tests', 'test_per_million', 'daily_cases_per_million', 'daily_tests_per_million', 'daily_tests_ma', 'daily_deceased_ma', 'cfr1_point', 'cfr2_point', 'cfr3_point', 'cfr3_l95', 'cfr3_u95', 'cfr3_l50', 'cfr3_u50', 'dbt_point', 'dbt_l95', 'dbt_u95', 'rt_point', 'rt_sd', 'rt_l95', 'rt_u95', 'rt_l50', 'rt_u50', 't_end', 'daily_positive_cases_14ma', 'daily_tests_14ma', 'rate_increase_new_cases', 'TPR', 'daily_tests_per_million_14ma', 'pct_ICU', 'category', 'year'])"
      ]
     },
     "execution_count": 12,
     "metadata": {},
     "output_type": "execute_result"
    }
   ],
   "source": [
    "js_[\"Delhi\"].keys()"
   ]
  },
  {
   "cell_type": "code",
   "execution_count": 13,
   "metadata": {},
   "outputs": [
    {
     "data": {
      "text/plain": [
       "(array(['GRAY', 'GREEN', 'RED', 'YELLOW'], dtype='<U6'),\n",
       " array([ 62, 211,  81, 112]))"
      ]
     },
     "execution_count": 13,
     "metadata": {},
     "output_type": "execute_result"
    }
   ],
   "source": [
    "np.unique(np.array(js_[\"Delhi\"][\"category\"]),return_counts=True)"
   ]
  },
  {
   "cell_type": "code",
   "execution_count": null,
   "metadata": {},
   "outputs": [],
   "source": []
  },
  {
   "cell_type": "code",
   "execution_count": null,
   "metadata": {},
   "outputs": [],
   "source": [
    "json.dump(js_,open(\"delhi-demo-outputs-cat.json\",\"w+\"))"
   ]
  },
  {
   "cell_type": "code",
   "execution_count": null,
   "metadata": {},
   "outputs": [],
   "source": []
  }
 ],
 "metadata": {
  "kernelspec": {
   "display_name": "Python 3",
   "language": "python",
   "name": "python3"
  },
  "language_info": {
   "codemirror_mode": {
    "name": "ipython",
    "version": 3
   },
   "file_extension": ".py",
   "mimetype": "text/x-python",
   "name": "python",
   "nbconvert_exporter": "python",
   "pygments_lexer": "ipython3",
   "version": "3.8.5"
  }
 },
 "nbformat": 4,
 "nbformat_minor": 2
}
