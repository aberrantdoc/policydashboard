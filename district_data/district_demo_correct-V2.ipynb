{
 "cells": [
  {
   "cell_type": "code",
   "execution_count": 1,
   "metadata": {},
   "outputs": [],
   "source": [
    "import numpy as np\n",
    "import matplotlib.pyplot as plt\n",
    "import pandas as pd\n",
    "from subprocess import call\n",
    "from scipy.stats.distributions import gamma, lognorm\n",
    "import json\n",
    "import wget\n",
    "import os\n",
    "import os.path\n",
    "from datetime import datetime\n",
    "import pytz\n",
    "from collections import OrderedDict\n",
    "#from google.colab import drive\n",
    "import math\n",
    "\n",
    "from datetime import datetime, timedelta\n",
    "from urllib.request import urlopen\n",
    "import collections\n",
    "import copy\n",
    "#os.chdir('/content/gdrive/My Drive')\n",
    "#drive.mount('/content/gdrive')"
   ]
  },
  {
   "cell_type": "code",
   "execution_count": 2,
   "metadata": {},
   "outputs": [],
   "source": [
    "district_json = json.load(open('allmetrics_districts.json'))\n",
    "states_json = json.load(open('allmetrics_states.json'))\n",
    "\n",
    "\n",
    "# delhi = {}\n",
    "\n",
    "# delhi['Delhi'] = states['Delhi']\n",
    "# delhi['Chandigarh'] = states['Chandigarh']\n",
    "\n",
    "# delhi['datetime'] = states['datetime']\n",
    "\n",
    "# with open('delhi-demo.json','w') as file:\n",
    "#     json.dump(delhi,file)\n",
    "\n",
    "# districts[\"Ahmednagar\"]"
   ]
  },
  {
   "cell_type": "code",
   "execution_count": 3,
   "metadata": {},
   "outputs": [],
   "source": [
    "# states = json.load(open('delhi-demo.json'))\n",
    "\n",
    "districts = list(district_json.keys())\n",
    "districts.remove(\"datetime\")\n",
    "districts.remove(\"Aurangabad\")\n",
    "\n",
    "# districts\n",
    "# !pwd"
   ]
  },
  {
   "cell_type": "code",
   "execution_count": 4,
   "metadata": {
    "scrolled": true
   },
   "outputs": [],
   "source": [
    "dist_population=pd.read_csv('../population_districts_extended.csv')\n",
    "\n",
    "dist_population.set_index(\"District\",inplace=True)\n",
    "dist_population[\"population\"] = dist_population[\"Population\"]\n",
    "population = dist_population"
   ]
  },
  {
   "cell_type": "code",
   "execution_count": 5,
   "metadata": {},
   "outputs": [],
   "source": [
    "def update_icu(districts):\n",
    "    for i,w in enumerate(districts[\"pct_ICU\"]):\n",
    "        districts[\"pct_ICU\"][i] = 15\n",
    "    return districts\n",
    "#     may11_index = 467\n",
    "#     may12_index = 468\n",
    "#     may15_index = 471\n",
    "#     may16_index = 472\n",
    "    \n",
    "#     if dist == \"Delhi\":\n",
    "#         states[dist][\"pct_ICU\"][may12_index] = 1.3\n",
    "#         states[dist][\"pct_ICU\"][may15_index] = 11.4\n",
    "#         states[dist][\"pct_ICU\"][may16_index] = 11.4\n",
    "#     elif dist==\"Chandigarh\":\n",
    "#         states[dist][\"pct_ICU\"][may11_index] = 7.3\n",
    "#         states[dist][\"pct_ICU\"][may12_index] = 11.2\n",
    "#         states[dist][\"pct_ICU\"][may15_index] = 14.9\n",
    "#         states[dist][\"pct_ICU\"][may16_index] = 14.9\n",
    "\n",
    "def convert_vacc(dat):\n",
    "    try:\n",
    "        return datetime.strptime(dat, '%d/%m/%Y').strftime('%d %B')\n",
    "    except:\n",
    "        return datetime.strptime(dat, '%d-%m-%Y').strftime('%d %B')\n",
    "\n",
    "\n",
    "def get_daily_series(a):\n",
    "    return [t - s for s, t in zip(a, a[1:])]\n",
    "\n",
    "\n",
    "'''\n",
    "def moving_avg(data, window_size=7):\n",
    "    numbers_series = pd.Series(data)\n",
    "    windows = numbers_series.rolling(window_size)\n",
    "    moving_averages = windows.mean()\n",
    "    moving_averages_list = moving_averages.tolist()\n",
    "    return moving_averages_list[window_size - 1:]\n",
    "'''\n",
    "\n",
    "def moving_avg(data, window_size=7):\n",
    "    ma = ['']*len(data)\n",
    "    for w in range(window_size, len(data)):\n",
    "        sum1 = 0\n",
    "        count = 0\n",
    "        for s in range(window_size):\n",
    "            if (len(str(data[w - s])) != 0):\n",
    "                sum1 += int(data[w - s])\n",
    "                count += 1\n",
    "        if count != 0:\n",
    "            ma[w] = sum1 / count\n",
    "    \n",
    "    return ma\n",
    "\n",
    "\n",
    "def rate_increase_cases(a, window_size=14):\n",
    "    increase_rate = ['']*window_size\n",
    "    \n",
    "    for t,s in zip(a[window_size:],a):\n",
    "        try:\n",
    "            increase_rate.append((t - s) * 100 / t)\n",
    "        except:\n",
    "            increase_rate.append('')\n",
    "            \n",
    "    \n",
    "    return increase_rate\n",
    "\n",
    "\n",
    "def TRP_14ma(daily_pos, daily_tested, window_size=7):\n",
    "    daily_pos_rate_ma = ['']*len(daily_pos)\n",
    "    for w in range(window_size, len(daily_pos)):\n",
    "        sum1 = 0\n",
    "        sum2 = 0\n",
    "        for s in range(window_size):\n",
    "            if (len(str(daily_pos[w - s])) != 0\n",
    "                    and len(str(daily_tested[w - s])) != 0):\n",
    "                sum1 += int(daily_pos[w - s])\n",
    "                sum2 += int(daily_tested[w - s])\n",
    "\n",
    "        if sum2 != 0:\n",
    "            daily_pos_rate_ma[w] = sum1 * 100 / abs(sum2)\n",
    "\n",
    "    return daily_pos_rate_ma\n",
    "\n",
    "\n",
    "def category_change(category):\n",
    "    return [t != s for s, t in zip(category, category[1:])]\n",
    "\n",
    "def divide_helper(a,b):\n",
    "    replace = {'': 0}\n",
    "    restore = {0:''}\n",
    "    \n",
    "    a = [replace.get(x, x) for x in a]\n",
    "    a = np.array(a)*1000000/b\n",
    "    \n",
    "    return [restore.get(x, x) for x in a]"
   ]
  },
  {
   "cell_type": "code",
   "execution_count": 6,
   "metadata": {},
   "outputs": [],
   "source": [
    "def logic(js,i):\n",
    "    if js[\"rate_increase_new_cases\"][i] == '' or js[\"TPR\"][i] == '' or js[\"pct_ICU\"][i] == '' or js[\"daily_cases_per_million\"][i] == '' or js[\"daily_tests_per_million_14ma\"][i] == '':\n",
    "        return \"GRAY\"\n",
    "    elif js[\"daily_cases_per_million\"][i]  >100 and js[\"TPR\"][i] > 10 and js[\"pct_ICU\"][i] < 40 and (js[\"rate_increase_new_cases\"][i] >5  or js[\"daily_tests_per_million_14ma\"][i] < 140):\n",
    "        return \"RED\"\n",
    "    elif (js[\"daily_cases_per_million\"][i]  >= 20) and (js[\"TPR\"][i] >=5) and (js[\"pct_ICU\"][i] <= 80) and ((js[\"rate_increase_new_cases\"][i] >= 2) or (js[\"daily_tests_per_million_14ma\"][i] < 140)):\n",
    "        return \"YELLOW\"\n",
    "    else:\n",
    "        return \"GREEN\"\n",
    "\n",
    "    \n",
    "def agg_logic(js,i):\n",
    "    if js[\"rate_increase_new_cases\"][i] == '' or js[\"TPR\"][i] == '' or js[\"pct_ICU\"][i] == '' or js[\"daily_cases_per_million\"][i] == '' or js[\"daily_tests_per_million_14ma\"][i] == '':\n",
    "        return \"GRAY\"\n",
    "    if js[\"daily_cases_per_million\"][i]  <20 and js[\"TPR\"][i] < 5 and js[\"pct_ICU\"][i] > 80 and (js[\"rate_increase_new_cases\"][i] < 2 or js[\"daily_tests_per_million_14ma\"][i] > 140):\n",
    "        return \"GREEN\"\n",
    "    elif (js[\"daily_cases_per_million\"][i]  <100) and (js[\"TPR\"][i] <= 10) and js[\"pct_ICU\"][i] >= 40 and  ((js[\"rate_increase_new_cases\"][i] <=5) or (js[\"daily_tests_per_million_14ma\"][i] < 140)):\n",
    "        return \"YELLOW\"\n",
    "    else:\n",
    "        return \"RED\"\n",
    "\n",
    "def logic_without_icu(js,i):\n",
    "    if js[\"rate_increase_new_cases\"][i] == '' or js[\"TPR\"][i] == '' or js[\"daily_cases_per_million\"][i] == '' or js[\"daily_tests_per_million_14ma\"][i] == '':\n",
    "        return \"GRAY\"\n",
    "    elif js[\"daily_cases_per_million\"][i]  >100 and js[\"TPR\"][i] > 10 and ( js[\"rate_increase_new_cases\"][i] >5 or js[\"daily_tests_per_million_14ma\"][i] < 140):\n",
    "        return \"RED\"\n",
    "    elif (js[\"daily_cases_per_million\"][i]  >= 20) and (js[\"TPR\"][i] >=5) and ((js[\"rate_increase_new_cases\"][i] >= 2) or (js[\"daily_tests_per_million_14ma\"][i] < 140)):\n",
    "        return \"YELLOW\"\n",
    "    else:\n",
    "        return \"GREEN\"\n",
    "    \n",
    "    \n",
    "def agg_logic_without_icu(js,i):\n",
    "    if js[\"rate_increase_new_cases\"][i] == '' or js[\"TPR\"][i] == '' or js[\"daily_cases_per_million\"][i] == '' or js[\"daily_tests_per_million_14ma\"][i] == '':\n",
    "        return \"GRAY\"\n",
    "    elif js[\"daily_cases_per_million\"][i]  <20 and js[\"TPR\"][i] < 5 and (js[\"rate_increase_new_cases\"][i] < 2 or js[\"daily_tests_per_million_14ma\"][i] > 140):\n",
    "        return \"GREEN\"\n",
    "    elif (js[\"daily_cases_per_million\"][i]  <100) and (js[\"TPR\"][i] <= 10) and ((js[\"rate_increase_new_cases\"][i] <=5) or (js[\"daily_tests_per_million_14ma\"][i] < 140)):\n",
    "        return \"YELLOW\"\n",
    "    else:\n",
    "        return \"RED\"\n",
    "    \n",
    "def yellow_logic_without_icu(js,i):\n",
    "    if js[\"rate_increase_new_cases\"][i] == '' or js[\"TPR\"][i] == '' or js[\"daily_cases_per_million\"][i] == '' or js[\"daily_tests_per_million_14ma\"][i] == '':\n",
    "        return \"GRAY\"\n",
    "    elif js[\"daily_cases_per_million\"][i]  <20 and js[\"TPR\"][i] < 5 and (js[\"rate_increase_new_cases\"][i] < 2 or js[\"daily_tests_per_million_14ma\"][i] > 140):\n",
    "        return \"GREEN\"\n",
    "    elif js[\"daily_cases_per_million\"][i]  >100 and js[\"TPR\"][i] > 10 and ( js[\"rate_increase_new_cases\"][i] >5 or js[\"daily_tests_per_million_14ma\"][i] < 140):\n",
    "        return \"RED\"\n",
    "    else:\n",
    "        return \"YELLOW\""
   ]
  },
  {
   "cell_type": "code",
   "execution_count": 7,
   "metadata": {},
   "outputs": [
    {
     "data": {
      "text/plain": [
       "dict_keys(['dates', 'cum_positive_cases', 'cum_positivity_rate', 'daily_positive_cases', 'cum_recovered', 'daily_recovered', 'cum_deceased', 'daily_deceased', 'daily_positivity_rate', 'daily_positive_cases_ma', 'daily_positivity_rate_ma', 'daily_tests', 'cum_tests', 'test_per_million', 'daily_cases_per_million', 'daily_tests_per_million', 'daily_tests_ma', 'daily_deceased_ma', 'cfr1_point', 'cfr2_point', 'cfr3_point', 'cfr3_l95', 'cfr3_u95', 'cfr3_l50', 'cfr3_u50', 'dbt_point', 'dbt_l95', 'dbt_u95', 'rt_point', 'rt_sd', 'rt_l95', 'rt_u95', 'rt_l50', 'rt_u50', 't_end'])"
      ]
     },
     "execution_count": 7,
     "metadata": {},
     "output_type": "execute_result"
    }
   ],
   "source": [
    "district_json[\"Anantapur\"].keys()"
   ]
  },
  {
   "cell_type": "code",
   "execution_count": 8,
   "metadata": {},
   "outputs": [
    {
     "data": {
      "text/plain": [
       "['',\n",
       " '',\n",
       " '',\n",
       " '',\n",
       " '',\n",
       " '',\n",
       " '',\n",
       " '',\n",
       " -50.0,\n",
       " 71.42857142857143,\n",
       " -200.0,\n",
       " 71.42857142857143]"
      ]
     },
     "execution_count": 8,
     "metadata": {},
     "output_type": "execute_result"
    }
   ],
   "source": [
    "t = ['','','','','',3,2,6,2,7,2,7]\n",
    "\n",
    "rate_increase_cases(t,3)"
   ]
  },
  {
   "cell_type": "code",
   "execution_count": 9,
   "metadata": {},
   "outputs": [],
   "source": [
    "dist_map= {\"Kancheepuram\": \"Kanchipuram\", \"Thiruvallur\":\"Tiruvallur\",\"Gautam Buddha Nagar\": \"Gautam Buddh Nagar\",\"Prayagraj\":\"Allahabad\"}"
   ]
  },
  {
   "cell_type": "code",
   "execution_count": 10,
   "metadata": {},
   "outputs": [],
   "source": [
    "\n",
    "def get_req_json(district_json):\n",
    "    dump_json = {}\n",
    "    for dist in districts:\n",
    "        dump_json[dist] = {}\n",
    "        dump_json[dist][\"pct_ICU\"] = district_json[dist][\"pct_ICU\"]\n",
    "        dump_json[dist][\"daily_tests_per_million_14ma\"] = district_json[dist][\"daily_tests_per_million_14ma\"]\n",
    "        dump_json[dist][\"TPR\"] = district_json[dist][\"TPR\"]\n",
    "        dump_json[dist][\"rate_increase_new_cases\"] = district_json[dist][\"rate_increase_new_cases\"]\n",
    "        dump_json[dist][\"daily_cases_per_million\"] = district_json[dist][\"daily_cases_per_million\"]\n",
    "        dump_json[dist][\"category\"] = district_json[dist][\"category\"]\n",
    "        dump_json[dist][\"dates\"] = district_json[dist][\"dates\"]\n",
    "    return dump_json\n",
    "\n",
    "for dist in districts:\n",
    "\n",
    "    dist_1 = dist\n",
    "\n",
    "    if dist in dist_map:\n",
    "        dist_1 = dist_map[dist]\n",
    "#     print(dist,dist_1)\n",
    "\n",
    "    daily_pos = district_json[dist]['daily_positive_cases']\n",
    "    daily_positive_cases_14ma = moving_avg(daily_pos,14)\n",
    "    district_json[dist]['daily_positive_cases_14ma'] = daily_positive_cases_14ma\n",
    "    \n",
    "    daily_tested = district_json[dist]['daily_tests']\n",
    "    daily_tests_14ma = moving_avg(daily_tested,14)\n",
    "    district_json[dist]['daily_tests_14ma'] = daily_tests_14ma\n",
    "    \n",
    "    district_json[dist]['rate_increase_new_cases'] = rate_increase_cases(daily_positive_cases_14ma,14)\n",
    "    \n",
    "    district_json[dist]['TPR'] = TRP_14ma(daily_pos,daily_tested,14)\n",
    "#     print(population['Population'][dist])\n",
    "    district_json[dist]['daily_tests_per_million_14ma'] = divide_helper(daily_tests_14ma,int(population['Population'][dist_1]))\n",
    "    district_json[dist]['pct_ICU'] = [''] * len(district_json[dist]['dates'])  #TODO\n",
    "    district_json[dist] = update_icu(district_json[dist])\n",
    "        \n",
    "    district_json[dist]['category'] = [logic_without_icu(district_json[dist], i) for i in range(len(district_json[dist]['dates']))] #TODO - outputted by some function\n",
    "    \n",
    "    \n",
    "    \n",
    "    district_json[dist]['year'] = ['']\n",
    "    \n",
    "    district_json[dist]['is_change'] = ['']+category_change(district_json[dist]['category']) #TODO - Bool value: 1 when category changed from previous date or not\n",
    "\n",
    "    \n",
    "\n",
    "dump_json = get_req_json(district_json)\n",
    "    "
   ]
  },
  {
   "cell_type": "code",
   "execution_count": 11,
   "metadata": {},
   "outputs": [],
   "source": [
    "with open('demo.json','w') as file:\n",
    "    json.dump(dump_json,file)"
   ]
  },
  {
   "cell_type": "code",
   "execution_count": 12,
   "metadata": {},
   "outputs": [],
   "source": [
    "for dist in districts:\n",
    "    dist_1 = dist\n",
    "\n",
    "    if dist in dist_map:\n",
    "        dist_1 = dist_map[dist]\n",
    "    daily_pos = district_json[dist]['daily_positive_cases']\n",
    "    daily_positive_cases_14ma = moving_avg(daily_pos,14)\n",
    "    district_json[dist]['daily_positive_cases_14ma'] = daily_positive_cases_14ma\n",
    "    \n",
    "    daily_tested = district_json[dist]['daily_tests']\n",
    "    daily_tests_14ma = moving_avg(daily_tested,14)\n",
    "    district_json[dist]['daily_tests_14ma'] = daily_tests_14ma\n",
    "    \n",
    "    district_json[dist]['rate_increase_new_cases'] = rate_increase_cases(daily_positive_cases_14ma,14)\n",
    "    \n",
    "    district_json[dist]['TPR'] = TRP_14ma(daily_pos,daily_tested,14)\n",
    "    \n",
    "    district_json[dist]['daily_tests_per_million_14ma'] = divide_helper(daily_tests_14ma,int(population['Population'][dist_1]))\n",
    "    district_json[dist]['pct_ICU'] = [''] * len(district_json[dist]['dates'])  #TODO\n",
    "    district_json[dist] = update_icu(district_json[dist])\n",
    "        \n",
    "    district_json[dist]['category'] = [logic(district_json[dist], i) for i in range(len(district_json[dist]['dates']))] #TODO - outputted by some function\n",
    "    \n",
    "    \n",
    "    \n",
    "    district_json[dist]['year'] = ['']\n",
    "    \n",
    "    district_json[dist]['is_change'] = ['']+category_change(district_json[dist]['category']) #TODO - Bool value: 1 when category changed from previous date or not\n",
    "\n",
    "dump_json = get_req_json(district_json)\n"
   ]
  },
  {
   "cell_type": "code",
   "execution_count": 13,
   "metadata": {},
   "outputs": [],
   "source": [
    "with open('actual.json','w') as file:\n",
    "    json.dump(dump_json,file)\n",
    "    "
   ]
  },
  {
   "cell_type": "code",
   "execution_count": 14,
   "metadata": {},
   "outputs": [],
   "source": [
    "for dist in districts:\n",
    "    dist_1 = dist\n",
    "\n",
    "    if dist in dist_map:\n",
    "        dist_1 = dist_map[dist]\n",
    "    \n",
    "    daily_pos = district_json[dist]['daily_positive_cases']\n",
    "    daily_positive_cases_14ma = moving_avg(daily_pos,14)\n",
    "    district_json[dist]['daily_positive_cases_14ma'] = daily_positive_cases_14ma\n",
    "    \n",
    "    daily_tested = district_json[dist]['daily_tests']\n",
    "    daily_tests_14ma = moving_avg(daily_tested,14)\n",
    "    district_json[dist]['daily_tests_14ma'] = daily_tests_14ma\n",
    "    \n",
    "    district_json[dist]['rate_increase_new_cases'] = rate_increase_cases(daily_positive_cases_14ma,14)\n",
    "    \n",
    "    district_json[dist]['TPR'] = TRP_14ma(daily_pos,daily_tested,14)\n",
    "    \n",
    "    district_json[dist]['daily_tests_per_million_14ma'] = divide_helper(daily_tests_14ma,int(population['Population'][dist_1]))\n",
    "    district_json[dist]['pct_ICU'] = ['']*len(district_json[dist]['dates']) #TODO\n",
    "    district_json[dist] = update_icu(district_json[dist])\n",
    "    \n",
    "    district_json[dist]['category'] = [agg_logic_without_icu(district_json[dist], i) for i in range(len(district_json[dist]['dates']))] #TODO - outputted by some function\n",
    "    district_json[dist]['year'] = ['']*len(district_json[dist]['dates'])\n",
    "    \n",
    "\n",
    "    \n",
    "    district_json[dist]['is_change'] = ['']+category_change(district_json[dist]['category']) #TODO - Bool value: 1 when category changed from previous date or not\n",
    "    \n",
    "dump_json = get_req_json(district_json)\n",
    "    "
   ]
  },
  {
   "cell_type": "code",
   "execution_count": 15,
   "metadata": {},
   "outputs": [],
   "source": [
    "with open('agg_demo.json','w') as file:\n",
    "    json.dump(dump_json,file)\n",
    "    "
   ]
  },
  {
   "cell_type": "code",
   "execution_count": 16,
   "metadata": {},
   "outputs": [],
   "source": [
    "for dist in districts:\n",
    "    dist_1 = dist\n",
    "\n",
    "    if dist in dist_map:\n",
    "        dist_1 = dist_map[dist]\n",
    "    \n",
    "    daily_pos = district_json[dist]['daily_positive_cases']\n",
    "    daily_positive_cases_14ma = moving_avg(daily_pos,14)\n",
    "    district_json[dist]['daily_positive_cases_14ma'] = daily_positive_cases_14ma\n",
    "    \n",
    "    daily_tested = district_json[dist]['daily_tests']\n",
    "    daily_tests_14ma = moving_avg(daily_tested,14)\n",
    "    district_json[dist]['daily_tests_14ma'] = daily_tests_14ma\n",
    "    \n",
    "    district_json[dist]['rate_increase_new_cases'] = rate_increase_cases(daily_positive_cases_14ma,14)\n",
    "    \n",
    "    district_json[dist]['TPR'] = TRP_14ma(daily_pos,daily_tested,14)\n",
    "    \n",
    "    district_json[dist]['daily_tests_per_million_14ma'] = divide_helper(daily_tests_14ma,int(population['Population'][dist_1]))\n",
    "    district_json[dist]['pct_ICU'] = ['']*len(district_json[dist]['dates']) #TODO\n",
    "    \n",
    "    district_json[dist] = update_icu(district_json[dist])    \n",
    "    district_json[dist]['category'] = [agg_logic(district_json[dist], i) for i in range(len(district_json[dist]['dates']))] #TODO - outputted by some function\n",
    "    district_json[dist]['year'] = ['']*len(district_json[dist]['dates'])\n",
    "    \n",
    "\n",
    "    \n",
    "    district_json[dist]['is_change'] = ['']+category_change(district_json[dist]['category']) #TODO - Bool value: 1 when category changed from previous date or not\n",
    "dump_json = get_req_json(district_json)  "
   ]
  },
  {
   "cell_type": "code",
   "execution_count": 17,
   "metadata": {},
   "outputs": [],
   "source": [
    "with open('agg_actual.json','w') as file:\n",
    "    json.dump(dump_json,file)\n",
    "    \n",
    "    "
   ]
  },
  {
   "cell_type": "code",
   "execution_count": 18,
   "metadata": {},
   "outputs": [],
   "source": [
    "for dist in districts:\n",
    "    dist_1 = dist\n",
    "\n",
    "    if dist in dist_map:\n",
    "        dist_1 = dist_map[dist]\n",
    "    \n",
    "    daily_pos = district_json[dist]['daily_positive_cases']\n",
    "    daily_positive_cases_14ma = moving_avg(daily_pos,14)\n",
    "    district_json[dist]['daily_positive_cases_14ma'] = daily_positive_cases_14ma\n",
    "    \n",
    "    daily_tested = district_json[dist]['daily_tests']\n",
    "    daily_tests_14ma = moving_avg(daily_tested,14)\n",
    "    district_json[dist]['daily_tests_14ma'] = daily_tests_14ma\n",
    "    \n",
    "    district_json[dist]['rate_increase_new_cases'] = rate_increase_cases(daily_positive_cases_14ma,14)\n",
    "    \n",
    "    district_json[dist]['TPR'] = TRP_14ma(daily_pos,daily_tested,14)\n",
    "    \n",
    "    district_json[dist]['daily_tests_per_million_14ma'] = divide_helper(daily_tests_14ma,int(population['Population'][dist_1]))\n",
    "    district_json[dist]['pct_ICU'] = ['']*len(district_json[dist]['dates']) #TODO\n",
    "    \n",
    "    district_json[dist] = update_icu(district_json[dist])    \n",
    "    district_json[dist]['category'] = [yellow_logic_without_icu(district_json[dist], i) for i in range(len(district_json[dist]['dates']))] #TODO - outputted by some function\n",
    "    district_json[dist]['year'] = ['']*len(district_json[dist]['dates'])\n",
    "    \n",
    "\n",
    "    \n",
    "    district_json[dist]['is_change'] = ['']+category_change(district_json[dist]['category']) #TODO - Bool value: 1 when category changed from previous date or not\n",
    "dump_json = get_req_json(district_json)  "
   ]
  },
  {
   "cell_type": "code",
   "execution_count": 19,
   "metadata": {},
   "outputs": [],
   "source": [
    "with open('yellow_logic_without_icu.json','w') as file:\n",
    "    json.dump(dump_json,file)\n",
    "    \n",
    "    "
   ]
  },
  {
   "cell_type": "code",
   "execution_count": 20,
   "metadata": {},
   "outputs": [],
   "source": [
    "# district_json[\"Anantapur\"][\"pct_ICU\"]"
   ]
  },
  {
   "cell_type": "code",
   "execution_count": 21,
   "metadata": {},
   "outputs": [],
   "source": [
    "# districts"
   ]
  },
  {
   "cell_type": "code",
   "execution_count": 22,
   "metadata": {},
   "outputs": [],
   "source": [
    "### ISSUES\n",
    "# District names have changed mysore to mysuru , bengalore to benagluru \n",
    "# Aurangabad Multiple same name"
   ]
  },
  {
   "cell_type": "code",
   "execution_count": null,
   "metadata": {},
   "outputs": [],
   "source": []
  }
 ],
 "metadata": {
  "kernelspec": {
   "display_name": "Python 3",
   "language": "python",
   "name": "python3"
  },
  "language_info": {
   "codemirror_mode": {
    "name": "ipython",
    "version": 3
   },
   "file_extension": ".py",
   "mimetype": "text/x-python",
   "name": "python",
   "nbconvert_exporter": "python",
   "pygments_lexer": "ipython3",
   "version": "3.8.10"
  },
  "latex_envs": {
   "LaTeX_envs_menu_present": true,
   "autoclose": false,
   "autocomplete": true,
   "bibliofile": "biblio.bib",
   "cite_by": "apalike",
   "current_citInitial": 1,
   "eqLabelWithNumbers": true,
   "eqNumInitial": 1,
   "hotkeys": {
    "equation": "Ctrl-E",
    "itemize": "Ctrl-I"
   },
   "labels_anchors": false,
   "latex_user_defs": false,
   "report_style_numbering": false,
   "user_envs_cfg": false
  },
  "toc": {
   "base_numbering": 1,
   "nav_menu": {},
   "number_sections": true,
   "sideBar": true,
   "skip_h1_title": false,
   "title_cell": "Table of Contents",
   "title_sidebar": "Contents",
   "toc_cell": false,
   "toc_position": {},
   "toc_section_display": true,
   "toc_window_display": false
  },
  "varInspector": {
   "cols": {
    "lenName": 16,
    "lenType": 16,
    "lenVar": 40
   },
   "kernels_config": {
    "python": {
     "delete_cmd_postfix": "",
     "delete_cmd_prefix": "del ",
     "library": "var_list.py",
     "varRefreshCmd": "print(var_dic_list())"
    },
    "r": {
     "delete_cmd_postfix": ") ",
     "delete_cmd_prefix": "rm(",
     "library": "var_list.r",
     "varRefreshCmd": "cat(var_dic_list()) "
    }
   },
   "types_to_exclude": [
    "module",
    "function",
    "builtin_function_or_method",
    "instance",
    "_Feature"
   ],
   "window_display": false
  }
 },
 "nbformat": 4,
 "nbformat_minor": 5
}
